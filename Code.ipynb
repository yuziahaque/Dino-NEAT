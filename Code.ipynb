{
 "cells": [
  {
   "cell_type": "code",
   "execution_count": 1,
   "metadata": {},
   "outputs": [
    {
     "name": "stdout",
     "output_type": "stream",
     "text": [
      "pygame 2.5.0 (SDL 2.28.0, Python 3.11.2)\n",
      "Hello from the pygame community. https://www.pygame.org/contribute.html\n"
     ]
    }
   ],
   "source": [
    "import pygame # provides functionality for creating games and multimedia applications. \n",
    "import neat #evolutionary algorithm for evolving neural networks, commonly used for training AIs in various tasks.\n",
    "import sys #\n",
    "import os\n",
    "import math\n",
    "import random\n",
    "from pygame.locals import *"
   ]
  },
  {
   "cell_type": "code",
   "execution_count": 2,
   "metadata": {},
   "outputs": [
    {
     "data": {
      "text/plain": [
       "(5, 0)"
      ]
     },
     "execution_count": 2,
     "metadata": {},
     "output_type": "execute_result"
    }
   ],
   "source": [
    "pygame.init()\n"
   ]
  },
  {
   "cell_type": "code",
   "execution_count": 3,
   "metadata": {},
   "outputs": [],
   "source": [
    "# Global Constants\n",
    "SCREEN_HEIGHT = 600\n",
    "SCREEN_WIDTH = 1100\n",
    "SCREEN = pygame.display.set_mode((SCREEN_WIDTH, SCREEN_HEIGHT))"
   ]
  },
  {
   "cell_type": "code",
   "execution_count": 4,
   "metadata": {},
   "outputs": [],
   "source": [
    "RUNNING = [pygame.image.load(os.path.join(\"Data/dino\", \"DinoRun1.png\")),\n",
    "           pygame.image.load(os.path.join(\"Data/dino\", \"DinoRun2.png\"))]"
   ]
  },
  {
   "cell_type": "code",
   "execution_count": 5,
   "metadata": {},
   "outputs": [],
   "source": [
    "JUMPING = pygame.image.load(os.path.join(\"Data/dino\", \"DinoJump.png\"))\n"
   ]
  },
  {
   "cell_type": "code",
   "execution_count": 6,
   "metadata": {},
   "outputs": [],
   "source": [
    "SMALL_CACTUS = [pygame.image.load(os.path.join(\"Data/cactus\", \"SmallCactus1.png\")),\n",
    "                pygame.image.load(os.path.join(\"Data/cactus\", \"SmallCactus2.png\")),\n",
    "                pygame.image.load(os.path.join(\"Data/cactus\", \"SmallCactus3.png\"))]\n",
    "LARGE_CACTUS = [pygame.image.load(os.path.join(\"Data/cactus\", \"LargeCactus1.png\")),\n",
    "                pygame.image.load(os.path.join(\"Data/cactus\", \"LargeCactus2.png\")),\n",
    "                pygame.image.load(os.path.join(\"Data/cactus\", \"LargeCactus3.png\"))]"
   ]
  },
  {
   "cell_type": "code",
   "execution_count": 7,
   "metadata": {},
   "outputs": [],
   "source": [
    "BG = pygame.image.load(os.path.join(\"Data/Other\", \"Track.png\"))"
   ]
  },
  {
   "cell_type": "code",
   "execution_count": 8,
   "metadata": {},
   "outputs": [],
   "source": [
    "FONT = pygame.font.Font('freesansbold.ttf', 20)"
   ]
  },
  {
   "cell_type": "code",
   "execution_count": 9,
   "metadata": {},
   "outputs": [],
   "source": [
    "class Dinosaur:\n",
    "    X_POS = 80\n",
    "    Y_POS = 310\n",
    "    JUMP_VEL = 8.5\n",
    "\n",
    "    def __init__(self, img=RUNNING[0]):\n",
    "        self.image = img\n",
    "        self.dino_run = True\n",
    "        self.dino_jump = False\n",
    "        self.jump_vel = self.JUMP_VEL\n",
    "        self.rect = pygame.Rect(self.X_POS, self.Y_POS, img.get_width(), img.get_height())\n",
    "        self.color = (random.randint(0, 255), random.randint(0, 255), random.randint(0, 255))\n",
    "        self.step_index = 0\n",
    "\n",
    "    def update(self):\n",
    "        if self.dino_run:\n",
    "            self.run()\n",
    "        if self.dino_jump:\n",
    "            self.jump()\n",
    "        if self.step_index >= 10:\n",
    "            self.step_index = 0\n",
    "\n",
    "    def jump(self):\n",
    "        self.image = JUMPING\n",
    "        if self.dino_jump:\n",
    "            self.rect.y -= self.jump_vel * 4\n",
    "            self.jump_vel -= 0.8\n",
    "        if self.jump_vel <= -self.JUMP_VEL:\n",
    "            self.dino_jump = False\n",
    "            self.dino_run = True\n",
    "            self.jump_vel = self.JUMP_VEL\n",
    "\n",
    "    def run(self):\n",
    "        self.image = RUNNING[self.step_index // 5]\n",
    "        self.rect.x = self.X_POS\n",
    "        self.rect.y = self.Y_POS\n",
    "        self.step_index += 1\n",
    "\n",
    "    def draw(self, SCREEN):\n",
    "        SCREEN.blit(self.image, (self.rect.x, self.rect.y))\n",
    "        pygame.draw.rect(SCREEN, self.color, (self.rect.x, self.rect.y, self.rect.width, self.rect.height), 2)\n",
    "        for obstacle in obstacles:\n",
    "            pygame.draw.line(SCREEN, self.color, (self.rect.x + 54, self.rect.y + 12), obstacle.rect.center, 2)\n"
   ]
  },
  {
   "cell_type": "code",
   "execution_count": 10,
   "metadata": {},
   "outputs": [],
   "source": [
    "class Obstacle:\n",
    "    def __init__(self, image, number_of_cacti):\n",
    "        self.image = image\n",
    "        self.type = number_of_cacti\n",
    "        self.rect = self.image[self.type].get_rect()\n",
    "        self.rect.x = SCREEN_WIDTH\n",
    "\n",
    "    def update(self):\n",
    "        self.rect.x -= game_speed\n",
    "        if self.rect.x < -self.rect.width:\n",
    "            obstacles.pop()\n",
    "\n",
    "    def draw(self, SCREEN):\n",
    "        SCREEN.blit(self.image[self.type], self.rect)\n"
   ]
  },
  {
   "cell_type": "code",
   "execution_count": 11,
   "metadata": {},
   "outputs": [],
   "source": [
    "class SmallCactus(Obstacle):\n",
    "    def __init__(self, image, number_of_cacti):\n",
    "        super().__init__(image, number_of_cacti)\n",
    "        self.rect.y = 325\n",
    "\n",
    "\n",
    "class LargeCactus(Obstacle):\n",
    "    def __init__(self, image, number_of_cacti):\n",
    "        super().__init__(image, number_of_cacti)\n",
    "        self.rect.y = 300\n"
   ]
  },
  {
   "cell_type": "code",
   "execution_count": 12,
   "metadata": {},
   "outputs": [],
   "source": [
    "def remove(index):\n",
    "    dinosaurs.pop(index)\n",
    "    ge.pop(index)\n",
    "    nets.pop(index)\n",
    "\n",
    "\n",
    "def distance(pos_a, pos_b):\n",
    "    dx = pos_a[0]-pos_b[0]\n",
    "    dy = pos_a[1]-pos_b[1]\n",
    "    return math.sqrt(dx**2+dy**2)"
   ]
  },
  {
   "cell_type": "code",
   "execution_count": 13,
   "metadata": {},
   "outputs": [],
   "source": [
    "def eval_genomes(genomes, config):\n",
    "    global game_speed, x_pos_bg, y_pos_bg, obstacles, dinosaurs, ge, nets, points\n",
    "    clock = pygame.time.Clock()\n",
    "    points = 0\n",
    "\n",
    "    obstacles = []\n",
    "    dinosaurs = []\n",
    "    ge = []\n",
    "    nets = []\n",
    "\n",
    "    x_pos_bg = 0\n",
    "    y_pos_bg = 380\n",
    "    game_speed = 20\n",
    "\n",
    "    for genome_id, genome in genomes:\n",
    "        dinosaurs.append(Dinosaur())\n",
    "        ge.append(genome)\n",
    "        net = neat.nn.FeedForwardNetwork.create(genome, config)\n",
    "        nets.append(net)\n",
    "        genome.fitness = 0\n",
    "\n",
    "    def score():\n",
    "        global points, game_speed\n",
    "        points += 1\n",
    "        if points % 100 == 0:\n",
    "            game_speed += 1\n",
    "        text = FONT.render(f'Points:  {str(points)}', True, (0, 0, 0))\n",
    "        SCREEN.blit(text, (950, 50))\n",
    "\n",
    "    def statistics():\n",
    "        global dinosaurs, game_speed, ge\n",
    "        text_1 = FONT.render(f'Dinosaurs Alive:  {str(len(dinosaurs))}', True, (0, 0, 0))\n",
    "        text_2 = FONT.render(f'Generation:  {pop.generation+1}', True, (0, 0, 0))\n",
    "        text_3 = FONT.render(f'Game Speed:  {str(game_speed)}', True, (0, 0, 0))\n",
    "\n",
    "        SCREEN.blit(text_1, (50, 450))\n",
    "        SCREEN.blit(text_2, (50, 480))\n",
    "        SCREEN.blit(text_3, (50, 510))\n",
    "\n",
    "    def background():\n",
    "        global x_pos_bg, y_pos_bg\n",
    "        image_width = BG.get_width()\n",
    "        SCREEN.blit(BG, (x_pos_bg, y_pos_bg))\n",
    "        SCREEN.blit(BG, (image_width + x_pos_bg, y_pos_bg))\n",
    "        if x_pos_bg <= -image_width:\n",
    "            x_pos_bg = 0\n",
    "        x_pos_bg -= game_speed\n",
    "\n",
    "    run = True\n",
    "    while run:\n",
    "        for event in pygame.event.get():\n",
    "            if event.type == pygame.QUIT:\n",
    "                pygame.quit()\n",
    "                sys.exit()\n",
    "\n",
    "        SCREEN.fill((255, 255, 255))\n",
    "\n",
    "        for dinosaur in dinosaurs:\n",
    "            dinosaur.update()\n",
    "            dinosaur.draw(SCREEN)\n",
    "\n",
    "        if len(dinosaurs) == 0:\n",
    "            break\n",
    "\n",
    "        if len(obstacles) == 0:\n",
    "            rand_int = random.randint(0, 1)\n",
    "            if rand_int == 0:\n",
    "                obstacles.append(SmallCactus(SMALL_CACTUS, random.randint(0, 2)))\n",
    "            elif rand_int == 1:\n",
    "                obstacles.append(LargeCactus(LARGE_CACTUS, random.randint(0, 2)))\n",
    "\n",
    "        for obstacle in obstacles:\n",
    "            obstacle.draw(SCREEN)\n",
    "            obstacle.update()\n",
    "            for i, dinosaur in enumerate(dinosaurs):\n",
    "                if dinosaur.rect.colliderect(obstacle.rect):\n",
    "                    ge[i].fitness -= 1\n",
    "                    remove(i)\n",
    "\n",
    "        for i, dinosaur in enumerate(dinosaurs):\n",
    "            output = nets[i].activate((dinosaur.rect.y,\n",
    "                                       distance((dinosaur.rect.x, dinosaur.rect.y),\n",
    "                                        obstacle.rect.midtop)))\n",
    "            if output[0] > 0.5 and dinosaur.rect.y == dinosaur.Y_POS:\n",
    "                dinosaur.dino_jump = True\n",
    "                dinosaur.dino_run = False\n",
    "\n",
    "        statistics()\n",
    "        score()\n",
    "        background()\n",
    "        clock.tick(30)\n",
    "        pygame.display.update()\n"
   ]
  },
  {
   "cell_type": "code",
   "execution_count": 14,
   "metadata": {},
   "outputs": [],
   "source": [
    "\n",
    "# Setup the NEAT Neural Network\n",
    "def run(config_path):\n",
    "    global pop\n",
    "    config = neat.config.Config(\n",
    "        neat.DefaultGenome,\n",
    "        neat.DefaultReproduction,\n",
    "        neat.DefaultSpeciesSet,\n",
    "        neat.DefaultStagnation,\n",
    "        config_path\n",
    "    )\n",
    "\n",
    "    pop = neat.Population(config)\n",
    "    pop.run(eval_genomes, 50)\n"
   ]
  },
  {
   "cell_type": "code",
   "execution_count": null,
   "metadata": {},
   "outputs": [],
   "source": [
    "import os\n",
    "if __name__ == '__main__':\n",
    "    local_dir = os.getcwd()\n",
    "    config_path = os.path.join(local_dir, 'config.txt')\n",
    "    run(config_path)"
   ]
  },
  {
   "cell_type": "code",
   "execution_count": null,
   "metadata": {},
   "outputs": [],
   "source": []
  }
 ],
 "metadata": {
  "kernelspec": {
   "display_name": "Python 3",
   "language": "python",
   "name": "python3"
  },
  "language_info": {
   "codemirror_mode": {
    "name": "ipython",
    "version": 3
   },
   "file_extension": ".py",
   "mimetype": "text/x-python",
   "name": "python",
   "nbconvert_exporter": "python",
   "pygments_lexer": "ipython3",
   "version": "3.11.2"
  },
  "orig_nbformat": 4
 },
 "nbformat": 4,
 "nbformat_minor": 2
}
